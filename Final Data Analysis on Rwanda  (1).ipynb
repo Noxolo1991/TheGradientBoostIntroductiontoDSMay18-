{
 "cells": [
  {
   "cell_type": "code",
   "execution_count": 107,
   "metadata": {},
   "outputs": [],
   "source": [
    "#import the required libraries\n",
    "import pandas as pd\n",
    "import numpy as np\n",
    "import matplotlib.pyplot as plt\n",
    "%matplotlib inline"
   ]
  },
  {
   "cell_type": "code",
   "execution_count": 108,
   "metadata": {
    "scrolled": false
   },
   "outputs": [
    {
     "data": {
      "text/html": [
       "<div>\n",
       "<style scoped>\n",
       "    .dataframe tbody tr th:only-of-type {\n",
       "        vertical-align: middle;\n",
       "    }\n",
       "\n",
       "    .dataframe tbody tr th {\n",
       "        vertical-align: top;\n",
       "    }\n",
       "\n",
       "    .dataframe thead th {\n",
       "        text-align: right;\n",
       "    }\n",
       "</style>\n",
       "<table border=\"1\" class=\"dataframe\">\n",
       "  <thead>\n",
       "    <tr style=\"text-align: right;\">\n",
       "      <th></th>\n",
       "      <th>Country Name</th>\n",
       "      <th>Country Code</th>\n",
       "      <th>Series Name</th>\n",
       "      <th>Time</th>\n",
       "      <th>gdpgr</th>\n",
       "      <th>gdpcap</th>\n",
       "      <th>gvtexp</th>\n",
       "      <th>investment</th>\n",
       "      <th>inflation</th>\n",
       "      <th>population</th>\n",
       "      <th>popgr</th>\n",
       "      <th>primeduc</th>\n",
       "      <th>seceduc</th>\n",
       "      <th>trade</th>\n",
       "      <th>seceducyrs</th>\n",
       "      <th>inflationdef</th>\n",
       "    </tr>\n",
       "  </thead>\n",
       "  <tbody>\n",
       "    <tr>\n",
       "      <th>0</th>\n",
       "      <td>Rwanda</td>\n",
       "      <td>RWA</td>\n",
       "      <td>GDP growth (annual %)</td>\n",
       "      <td>1960</td>\n",
       "      <td>NaN</td>\n",
       "      <td>352.825095</td>\n",
       "      <td>10.084030</td>\n",
       "      <td>NaN</td>\n",
       "      <td>NaN</td>\n",
       "      <td>2935582</td>\n",
       "      <td>2.510836</td>\n",
       "      <td>NaN</td>\n",
       "      <td>NaN</td>\n",
       "      <td>22.521004</td>\n",
       "      <td>NaN</td>\n",
       "      <td>NaN</td>\n",
       "    </tr>\n",
       "    <tr>\n",
       "      <th>1</th>\n",
       "      <td>Rwanda</td>\n",
       "      <td>RWA</td>\n",
       "      <td>GDP growth (annual %)</td>\n",
       "      <td>1961</td>\n",
       "      <td>-4.297526</td>\n",
       "      <td>330.596417</td>\n",
       "      <td>10.163931</td>\n",
       "      <td>NaN</td>\n",
       "      <td>NaN</td>\n",
       "      <td>2998325</td>\n",
       "      <td>2.114807</td>\n",
       "      <td>NaN</td>\n",
       "      <td>NaN</td>\n",
       "      <td>21.311473</td>\n",
       "      <td>NaN</td>\n",
       "      <td>7.124714</td>\n",
       "    </tr>\n",
       "    <tr>\n",
       "      <th>2</th>\n",
       "      <td>Rwanda</td>\n",
       "      <td>RWA</td>\n",
       "      <td>GDP growth (annual %)</td>\n",
       "      <td>1962</td>\n",
       "      <td>11.333798</td>\n",
       "      <td>361.481582</td>\n",
       "      <td>10.559998</td>\n",
       "      <td>NaN</td>\n",
       "      <td>NaN</td>\n",
       "      <td>3052936</td>\n",
       "      <td>1.804995</td>\n",
       "      <td>NaN</td>\n",
       "      <td>NaN</td>\n",
       "      <td>22.079999</td>\n",
       "      <td>NaN</td>\n",
       "      <td>-7.971334</td>\n",
       "    </tr>\n",
       "    <tr>\n",
       "      <th>3</th>\n",
       "      <td>Rwanda</td>\n",
       "      <td>RWA</td>\n",
       "      <td>GDP growth (annual %)</td>\n",
       "      <td>1963</td>\n",
       "      <td>-9.820444</td>\n",
       "      <td>320.473231</td>\n",
       "      <td>10.937498</td>\n",
       "      <td>NaN</td>\n",
       "      <td>NaN</td>\n",
       "      <td>3105419</td>\n",
       "      <td>1.704490</td>\n",
       "      <td>NaN</td>\n",
       "      <td>NaN</td>\n",
       "      <td>18.593752</td>\n",
       "      <td>NaN</td>\n",
       "      <td>13.551229</td>\n",
       "    </tr>\n",
       "    <tr>\n",
       "      <th>4</th>\n",
       "      <td>Rwanda</td>\n",
       "      <td>RWA</td>\n",
       "      <td>GDP growth (annual %)</td>\n",
       "      <td>1964</td>\n",
       "      <td>-12.464993</td>\n",
       "      <td>275.309479</td>\n",
       "      <td>10.769230</td>\n",
       "      <td>NaN</td>\n",
       "      <td>NaN</td>\n",
       "      <td>3164263</td>\n",
       "      <td>1.877152</td>\n",
       "      <td>NaN</td>\n",
       "      <td>NaN</td>\n",
       "      <td>24.615386</td>\n",
       "      <td>NaN</td>\n",
       "      <td>16.025004</td>\n",
       "    </tr>\n",
       "  </tbody>\n",
       "</table>\n",
       "</div>"
      ],
      "text/plain": [
       "  Country Name Country Code            Series Name  Time      gdpgr  \\\n",
       "0       Rwanda          RWA  GDP growth (annual %)  1960        NaN   \n",
       "1       Rwanda          RWA  GDP growth (annual %)  1961  -4.297526   \n",
       "2       Rwanda          RWA  GDP growth (annual %)  1962  11.333798   \n",
       "3       Rwanda          RWA  GDP growth (annual %)  1963  -9.820444   \n",
       "4       Rwanda          RWA  GDP growth (annual %)  1964 -12.464993   \n",
       "\n",
       "       gdpcap     gvtexp  investment  inflation  population     popgr  \\\n",
       "0  352.825095  10.084030         NaN        NaN     2935582  2.510836   \n",
       "1  330.596417  10.163931         NaN        NaN     2998325  2.114807   \n",
       "2  361.481582  10.559998         NaN        NaN     3052936  1.804995   \n",
       "3  320.473231  10.937498         NaN        NaN     3105419  1.704490   \n",
       "4  275.309479  10.769230         NaN        NaN     3164263  1.877152   \n",
       "\n",
       "   primeduc  seceduc      trade  seceducyrs  inflationdef  \n",
       "0       NaN      NaN  22.521004         NaN           NaN  \n",
       "1       NaN      NaN  21.311473         NaN      7.124714  \n",
       "2       NaN      NaN  22.079999         NaN     -7.971334  \n",
       "3       NaN      NaN  18.593752         NaN     13.551229  \n",
       "4       NaN      NaN  24.615386         NaN     16.025004  "
      ]
     },
     "execution_count": 108,
     "metadata": {},
     "output_type": "execute_result"
    }
   ],
   "source": [
    "#Making a list of missing value types,importing the required dataset which is an excel file and changing it into a df=dataframe\n",
    "missing_values=[\"NaN\",\"..\"]\n",
    "df = pd.read_excel('Rwanda data.xlsx',\n",
    "                 sheet_name='Data',\n",
    "                  na_values=missing_values)\n",
    "df.head() #displays the first 5 rows"
   ]
  },
  {
   "cell_type": "code",
   "execution_count": 109,
   "metadata": {},
   "outputs": [],
   "source": [
    "#Dropping all the columns that are not of interest in the dataset\n",
    "df.drop(['Country Name','Country Code','Series Name','primeduc','seceducyrs','inflationdef'],axis=1,inplace=True)"
   ]
  },
  {
   "cell_type": "code",
   "execution_count": 110,
   "metadata": {},
   "outputs": [],
   "source": [
    "#Dropping 10 rows that are not required,it was stated that the time series must start at 1970\n",
    "df=df.iloc[10:]"
   ]
  },
  {
   "cell_type": "code",
   "execution_count": 111,
   "metadata": {},
   "outputs": [],
   "source": [
    "#Making Time the index of the dataframe  \n",
    "df.set_index('Time',inplace=True)"
   ]
  },
  {
   "cell_type": "code",
   "execution_count": 112,
   "metadata": {},
   "outputs": [
    {
     "data": {
      "text/html": [
       "<div>\n",
       "<style scoped>\n",
       "    .dataframe tbody tr th:only-of-type {\n",
       "        vertical-align: middle;\n",
       "    }\n",
       "\n",
       "    .dataframe tbody tr th {\n",
       "        vertical-align: top;\n",
       "    }\n",
       "\n",
       "    .dataframe thead th {\n",
       "        text-align: right;\n",
       "    }\n",
       "</style>\n",
       "<table border=\"1\" class=\"dataframe\">\n",
       "  <thead>\n",
       "    <tr style=\"text-align: right;\">\n",
       "      <th></th>\n",
       "      <th>gdpgr</th>\n",
       "      <th>gdpcap</th>\n",
       "      <th>gvtexp</th>\n",
       "      <th>investment</th>\n",
       "      <th>inflation</th>\n",
       "      <th>population</th>\n",
       "      <th>popgr</th>\n",
       "      <th>seceduc</th>\n",
       "      <th>trade</th>\n",
       "    </tr>\n",
       "    <tr>\n",
       "      <th>Time</th>\n",
       "      <th></th>\n",
       "      <th></th>\n",
       "      <th></th>\n",
       "      <th></th>\n",
       "      <th></th>\n",
       "      <th></th>\n",
       "      <th></th>\n",
       "      <th></th>\n",
       "      <th></th>\n",
       "    </tr>\n",
       "  </thead>\n",
       "  <tbody>\n",
       "    <tr>\n",
       "      <th>1970</th>\n",
       "      <td>6.001425</td>\n",
       "      <td>357.437043</td>\n",
       "      <td>8.731241</td>\n",
       "      <td>7.185084</td>\n",
       "      <td>0.514886</td>\n",
       "      <td>3757358</td>\n",
       "      <td>3.084348</td>\n",
       "      <td>NaN</td>\n",
       "      <td>26.739426</td>\n",
       "    </tr>\n",
       "    <tr>\n",
       "      <th>1971</th>\n",
       "      <td>1.206641</td>\n",
       "      <td>351.090214</td>\n",
       "      <td>9.896536</td>\n",
       "      <td>9.041836</td>\n",
       "      <td>0.488580</td>\n",
       "      <td>3871439</td>\n",
       "      <td>2.991022</td>\n",
       "      <td>2.51528</td>\n",
       "      <td>27.080523</td>\n",
       "    </tr>\n",
       "    <tr>\n",
       "      <th>1972</th>\n",
       "      <td>0.263068</td>\n",
       "      <td>341.791691</td>\n",
       "      <td>10.704847</td>\n",
       "      <td>9.515419</td>\n",
       "      <td>3.092194</td>\n",
       "      <td>3987224</td>\n",
       "      <td>2.946898</td>\n",
       "      <td>NaN</td>\n",
       "      <td>24.537445</td>\n",
       "    </tr>\n",
       "    <tr>\n",
       "      <th>1973</th>\n",
       "      <td>3.438088</td>\n",
       "      <td>343.281682</td>\n",
       "      <td>11.393443</td>\n",
       "      <td>9.426230</td>\n",
       "      <td>9.373674</td>\n",
       "      <td>4106407</td>\n",
       "      <td>2.945319</td>\n",
       "      <td>NaN</td>\n",
       "      <td>25.040985</td>\n",
       "    </tr>\n",
       "    <tr>\n",
       "      <th>1974</th>\n",
       "      <td>1.409824</td>\n",
       "      <td>337.823842</td>\n",
       "      <td>12.029288</td>\n",
       "      <td>10.460250</td>\n",
       "      <td>31.088299</td>\n",
       "      <td>4231578</td>\n",
       "      <td>3.002654</td>\n",
       "      <td>NaN</td>\n",
       "      <td>33.507676</td>\n",
       "    </tr>\n",
       "  </tbody>\n",
       "</table>\n",
       "</div>"
      ],
      "text/plain": [
       "         gdpgr      gdpcap     gvtexp  investment  inflation  population  \\\n",
       "Time                                                                       \n",
       "1970  6.001425  357.437043   8.731241    7.185084   0.514886     3757358   \n",
       "1971  1.206641  351.090214   9.896536    9.041836   0.488580     3871439   \n",
       "1972  0.263068  341.791691  10.704847    9.515419   3.092194     3987224   \n",
       "1973  3.438088  343.281682  11.393443    9.426230   9.373674     4106407   \n",
       "1974  1.409824  337.823842  12.029288   10.460250  31.088299     4231578   \n",
       "\n",
       "         popgr  seceduc      trade  \n",
       "Time                                \n",
       "1970  3.084348      NaN  26.739426  \n",
       "1971  2.991022  2.51528  27.080523  \n",
       "1972  2.946898      NaN  24.537445  \n",
       "1973  2.945319      NaN  25.040985  \n",
       "1974  3.002654      NaN  33.507676  "
      ]
     },
     "execution_count": 112,
     "metadata": {},
     "output_type": "execute_result"
    }
   ],
   "source": [
    "df.head() #First five rows are displayed after implementing the changes above  "
   ]
  },
  {
   "cell_type": "code",
   "execution_count": 113,
   "metadata": {},
   "outputs": [
    {
     "data": {
      "text/plain": [
       "gdpgr          0\n",
       "gdpcap         0\n",
       "gvtexp         0\n",
       "investment     0\n",
       "inflation      2\n",
       "population     0\n",
       "popgr          0\n",
       "seceduc       12\n",
       "trade          0\n",
       "dtype: int64"
      ]
     },
     "execution_count": 113,
     "metadata": {},
     "output_type": "execute_result"
    }
   ],
   "source": [
    "#Working out the number of missing values for each column,NaN means missing value \n",
    "df.isna().sum()  "
   ]
  },
  {
   "cell_type": "code",
   "execution_count": 114,
   "metadata": {},
   "outputs": [
    {
     "data": {
      "text/plain": [
       "gdpgr          0.000000\n",
       "gdpcap         0.000000\n",
       "gvtexp         0.000000\n",
       "investment     0.000000\n",
       "inflation      4.166667\n",
       "population     0.000000\n",
       "popgr          0.000000\n",
       "seceduc       31.578947\n",
       "trade          0.000000\n",
       "dtype: float64"
      ]
     },
     "execution_count": 114,
     "metadata": {},
     "output_type": "execute_result"
    }
   ],
   "source": [
    "#Working out the percentage of missing values in order to determine whether to drop a column or treat it for missing values.\n",
    "#If the missing values of a column are less than 30% those missing values are treated.\n",
    "#If the missing values of a column are more than 30% the column is dropped\n",
    "#But in this case the column seceduc is an important feature of the dataset that will be later on used for analysis so it cannot\n",
    "#be drop and seceduc is treated for its missing values\n",
    "df.isna().sum()/df.count()*100"
   ]
  },
  {
   "cell_type": "code",
   "execution_count": 115,
   "metadata": {},
   "outputs": [],
   "source": [
    "#Dropping all the missing values in the column inflation \n",
    "df['inflation']=df['inflation'].dropna()"
   ]
  },
  {
   "cell_type": "code",
   "execution_count": 116,
   "metadata": {},
   "outputs": [],
   "source": [
    "#Treating the missing values = replacing all the missing values with the mean of the column inflation\n",
    "df['inflation']=df['inflation'].fillna(df['inflation'].mean())"
   ]
  },
  {
   "cell_type": "code",
   "execution_count": 117,
   "metadata": {},
   "outputs": [
    {
     "data": {
      "text/plain": [
       "0"
      ]
     },
     "execution_count": 117,
     "metadata": {},
     "output_type": "execute_result"
    }
   ],
   "source": [
    "#Working out missing values in the column inflation\n",
    "df['inflation'].isna().sum()"
   ]
  },
  {
   "cell_type": "code",
   "execution_count": 118,
   "metadata": {},
   "outputs": [],
   "source": [
    "#Dropping all the missing values in the column seceduc\n",
    "df['seceduc']=df['seceduc'].dropna()"
   ]
  },
  {
   "cell_type": "code",
   "execution_count": 119,
   "metadata": {},
   "outputs": [],
   "source": [
    "#Treating the missing values = replacing all the missing values with the mean of the column seceduc\n",
    "df['seceduc']=df['seceduc'].fillna(df['seceduc'].mean())"
   ]
  },
  {
   "cell_type": "code",
   "execution_count": 120,
   "metadata": {},
   "outputs": [
    {
     "data": {
      "text/plain": [
       "0"
      ]
     },
     "execution_count": 120,
     "metadata": {},
     "output_type": "execute_result"
    }
   ],
   "source": [
    "#Working out missing values in the column inflation\n",
    "df['seceduc'].isna().sum()"
   ]
  },
  {
   "cell_type": "code",
   "execution_count": 121,
   "metadata": {},
   "outputs": [
    {
     "data": {
      "text/plain": [
       "gdpgr         0\n",
       "gdpcap        0\n",
       "gvtexp        0\n",
       "investment    0\n",
       "inflation     0\n",
       "population    0\n",
       "popgr         0\n",
       "seceduc       0\n",
       "trade         0\n",
       "dtype: int64"
      ]
     },
     "execution_count": 121,
     "metadata": {},
     "output_type": "execute_result"
    }
   ],
   "source": [
    "#Working out missing values in the whole dataframe after data cleaning which was conducted above\n",
    "df.isna().sum()"
   ]
  },
  {
   "cell_type": "code",
   "execution_count": 122,
   "metadata": {},
   "outputs": [
    {
     "data": {
      "text/html": [
       "<div>\n",
       "<style scoped>\n",
       "    .dataframe tbody tr th:only-of-type {\n",
       "        vertical-align: middle;\n",
       "    }\n",
       "\n",
       "    .dataframe tbody tr th {\n",
       "        vertical-align: top;\n",
       "    }\n",
       "\n",
       "    .dataframe thead th {\n",
       "        text-align: right;\n",
       "    }\n",
       "</style>\n",
       "<table border=\"1\" class=\"dataframe\">\n",
       "  <thead>\n",
       "    <tr style=\"text-align: right;\">\n",
       "      <th></th>\n",
       "      <th>gdpgr</th>\n",
       "      <th>gdpcap</th>\n",
       "      <th>gvtexp</th>\n",
       "      <th>investment</th>\n",
       "      <th>inflation</th>\n",
       "      <th>population</th>\n",
       "      <th>popgr</th>\n",
       "      <th>seceduc</th>\n",
       "      <th>trade</th>\n",
       "    </tr>\n",
       "    <tr>\n",
       "      <th>Time</th>\n",
       "      <th></th>\n",
       "      <th></th>\n",
       "      <th></th>\n",
       "      <th></th>\n",
       "      <th></th>\n",
       "      <th></th>\n",
       "      <th></th>\n",
       "      <th></th>\n",
       "      <th></th>\n",
       "    </tr>\n",
       "  </thead>\n",
       "  <tbody>\n",
       "    <tr>\n",
       "      <th>1970</th>\n",
       "      <td>6.001425</td>\n",
       "      <td>357.437043</td>\n",
       "      <td>8.731241</td>\n",
       "      <td>7.185084</td>\n",
       "      <td>0.514886</td>\n",
       "      <td>3757358</td>\n",
       "      <td>3.084348</td>\n",
       "      <td>19.206343</td>\n",
       "      <td>26.739426</td>\n",
       "    </tr>\n",
       "    <tr>\n",
       "      <th>1971</th>\n",
       "      <td>1.206641</td>\n",
       "      <td>351.090214</td>\n",
       "      <td>9.896536</td>\n",
       "      <td>9.041836</td>\n",
       "      <td>0.488580</td>\n",
       "      <td>3871439</td>\n",
       "      <td>2.991022</td>\n",
       "      <td>2.515280</td>\n",
       "      <td>27.080523</td>\n",
       "    </tr>\n",
       "    <tr>\n",
       "      <th>1972</th>\n",
       "      <td>0.263068</td>\n",
       "      <td>341.791691</td>\n",
       "      <td>10.704847</td>\n",
       "      <td>9.515419</td>\n",
       "      <td>3.092194</td>\n",
       "      <td>3987224</td>\n",
       "      <td>2.946898</td>\n",
       "      <td>19.206343</td>\n",
       "      <td>24.537445</td>\n",
       "    </tr>\n",
       "    <tr>\n",
       "      <th>1973</th>\n",
       "      <td>3.438088</td>\n",
       "      <td>343.281682</td>\n",
       "      <td>11.393443</td>\n",
       "      <td>9.426230</td>\n",
       "      <td>9.373674</td>\n",
       "      <td>4106407</td>\n",
       "      <td>2.945319</td>\n",
       "      <td>19.206343</td>\n",
       "      <td>25.040985</td>\n",
       "    </tr>\n",
       "    <tr>\n",
       "      <th>1974</th>\n",
       "      <td>1.409824</td>\n",
       "      <td>337.823842</td>\n",
       "      <td>12.029288</td>\n",
       "      <td>10.460250</td>\n",
       "      <td>31.088299</td>\n",
       "      <td>4231578</td>\n",
       "      <td>3.002654</td>\n",
       "      <td>19.206343</td>\n",
       "      <td>33.507676</td>\n",
       "    </tr>\n",
       "  </tbody>\n",
       "</table>\n",
       "</div>"
      ],
      "text/plain": [
       "         gdpgr      gdpcap     gvtexp  investment  inflation  population  \\\n",
       "Time                                                                       \n",
       "1970  6.001425  357.437043   8.731241    7.185084   0.514886     3757358   \n",
       "1971  1.206641  351.090214   9.896536    9.041836   0.488580     3871439   \n",
       "1972  0.263068  341.791691  10.704847    9.515419   3.092194     3987224   \n",
       "1973  3.438088  343.281682  11.393443    9.426230   9.373674     4106407   \n",
       "1974  1.409824  337.823842  12.029288   10.460250  31.088299     4231578   \n",
       "\n",
       "         popgr    seceduc      trade  \n",
       "Time                                  \n",
       "1970  3.084348  19.206343  26.739426  \n",
       "1971  2.991022   2.515280  27.080523  \n",
       "1972  2.946898  19.206343  24.537445  \n",
       "1973  2.945319  19.206343  25.040985  \n",
       "1974  3.002654  19.206343  33.507676  "
      ]
     },
     "execution_count": 122,
     "metadata": {},
     "output_type": "execute_result"
    }
   ],
   "source": [
    "#Evaluating the first 5 rows of the dataframe\n",
    "#The dataframe is clean and data visualization can be conducted\n",
    "df.head()"
   ]
  },
  {
   "cell_type": "code",
   "execution_count": 123,
   "metadata": {},
   "outputs": [
    {
     "data": {
      "text/plain": [
       "<matplotlib.axes._subplots.AxesSubplot at 0x28c5ac44208>"
      ]
     },
     "execution_count": 123,
     "metadata": {},
     "output_type": "execute_result"
    },
    {
     "data": {
      "image/png": "[encoded data removed]",
      "text/plain": [
       "<Figure size 432x288 with 1 Axes>"
      ]
     },
     "metadata": {
      "needs_background": "light"
     },
     "output_type": "display_data"
    }
   ],
   "source": [
    "#Time series for GDP growth\n",
    "plt.title('GDP growth')\n",
    "df['gdpgr'].plot()"
   ]
  },
  {
   "cell_type": "code",
   "execution_count": 124,
   "metadata": {},
   "outputs": [
    {
     "data": {
      "text/plain": [
       "<matplotlib.axes._subplots.AxesSubplot at 0x28c5aed2608>"
      ]
     },
     "execution_count": 124,
     "metadata": {},
     "output_type": "execute_result"
    },
    {
     "data": {
      "image/png": "[encoded data removed]",
      "text/plain": [
       "<Figure size 432x288 with 1 Axes>"
      ]
     },
     "metadata": {
      "needs_background": "light"
     },
     "output_type": "display_data"
    }
   ],
   "source": [
    "#Time series for GDP per capita\n",
    "plt.title('GDP per capita')\n",
    "df['gdpcap'].plot()"
   ]
  },
  {
   "cell_type": "code",
   "execution_count": 125,
   "metadata": {},
   "outputs": [
    {
     "data": {
      "text/plain": [
       "<matplotlib.axes._subplots.AxesSubplot at 0x28c5af5ba88>"
      ]
     },
     "execution_count": 125,
     "metadata": {},
     "output_type": "execute_result"
    },
    {
     "data": {
      "image/png": "[encoded data removed]",
      "text/plain": [
       "<Figure size 432x288 with 1 Axes>"
      ]
     },
     "metadata": {
      "needs_background": "light"
     },
     "output_type": "display_data"
    }
   ],
   "source": [
    "#Time series for investment\n",
    "plt.title('investment')\n",
    "df['investment'].plot()"
   ]
  },
  {
   "cell_type": "code",
   "execution_count": 126,
   "metadata": {},
   "outputs": [
    {
     "data": {
      "text/plain": [
       "<matplotlib.axes._subplots.AxesSubplot at 0x28c5abaeb88>"
      ]
     },
     "execution_count": 126,
     "metadata": {},
     "output_type": "execute_result"
    },
    {
     "data": {
      "image/png": "[encoded data removed]",
      "text/plain": [
       "<Figure size 432x288 with 1 Axes>"
      ]
     },
     "metadata": {
      "needs_background": "light"
     },
     "output_type": "display_data"
    }
   ],
   "source": [
    "#Time series for population growth\n",
    "plt.title('Population growth')\n",
    "df['popgr'].plot()"
   ]
  },
  {
   "cell_type": "code",
   "execution_count": 127,
   "metadata": {},
   "outputs": [
    {
     "data": {
      "text/plain": [
       "<matplotlib.axes._subplots.AxesSubplot at 0x28c59a15948>"
      ]
     },
     "execution_count": 127,
     "metadata": {},
     "output_type": "execute_result"
    },
    {
     "data": {
      "image/png": "[encoded data removed]",
      "text/plain": [
       "<Figure size 432x288 with 1 Axes>"
      ]
     },
     "metadata": {
      "needs_background": "light"
     },
     "output_type": "display_data"
    }
   ],
   "source": [
    "#Time series for trade\n",
    "plt.title('trade')\n",
    "df['trade'].plot()"
   ]
  },
  {
   "cell_type": "code",
   "execution_count": 131,
   "metadata": {},
   "outputs": [],
   "source": [
    "#Creating a new dataframe by dropping the column gdpgr because the required correlation matrix only has \n",
    "#8 features from 8 columns\n",
    "df_one=df.drop('gdpgr',axis=1)"
   ]
  },
  {
   "cell_type": "code",
   "execution_count": 132,
   "metadata": {},
   "outputs": [
    {
     "data": {
      "text/html": [
       "<div>\n",
       "<style scoped>\n",
       "    .dataframe tbody tr th:only-of-type {\n",
       "        vertical-align: middle;\n",
       "    }\n",
       "\n",
       "    .dataframe tbody tr th {\n",
       "        vertical-align: top;\n",
       "    }\n",
       "\n",
       "    .dataframe thead th {\n",
       "        text-align: right;\n",
       "    }\n",
       "</style>\n",
       "<table border=\"1\" class=\"dataframe\">\n",
       "  <thead>\n",
       "    <tr style=\"text-align: right;\">\n",
       "      <th></th>\n",
       "      <th>gdpcap</th>\n",
       "      <th>gvtexp</th>\n",
       "      <th>investment</th>\n",
       "      <th>inflation</th>\n",
       "      <th>population</th>\n",
       "      <th>popgr</th>\n",
       "      <th>seceduc</th>\n",
       "      <th>trade</th>\n",
       "    </tr>\n",
       "  </thead>\n",
       "  <tbody>\n",
       "    <tr>\n",
       "      <th>gdpcap</th>\n",
       "      <td>1.000000</td>\n",
       "      <td>0.155148</td>\n",
       "      <td>0.923867</td>\n",
       "      <td>-0.210181</td>\n",
       "      <td>0.862652</td>\n",
       "      <td>0.040902</td>\n",
       "      <td>0.751521</td>\n",
       "      <td>0.508376</td>\n",
       "    </tr>\n",
       "    <tr>\n",
       "      <th>gvtexp</th>\n",
       "      <td>0.155148</td>\n",
       "      <td>1.000000</td>\n",
       "      <td>0.145528</td>\n",
       "      <td>0.020995</td>\n",
       "      <td>0.296333</td>\n",
       "      <td>0.056123</td>\n",
       "      <td>-0.133204</td>\n",
       "      <td>0.088943</td>\n",
       "    </tr>\n",
       "    <tr>\n",
       "      <th>investment</th>\n",
       "      <td>0.923867</td>\n",
       "      <td>0.145528</td>\n",
       "      <td>1.000000</td>\n",
       "      <td>-0.140615</td>\n",
       "      <td>0.886441</td>\n",
       "      <td>-0.007051</td>\n",
       "      <td>0.758719</td>\n",
       "      <td>0.477184</td>\n",
       "    </tr>\n",
       "    <tr>\n",
       "      <th>inflation</th>\n",
       "      <td>-0.210181</td>\n",
       "      <td>0.020995</td>\n",
       "      <td>-0.140615</td>\n",
       "      <td>1.000000</td>\n",
       "      <td>-0.273872</td>\n",
       "      <td>-0.210439</td>\n",
       "      <td>-0.124834</td>\n",
       "      <td>-0.015316</td>\n",
       "    </tr>\n",
       "    <tr>\n",
       "      <th>population</th>\n",
       "      <td>0.862652</td>\n",
       "      <td>0.296333</td>\n",
       "      <td>0.886441</td>\n",
       "      <td>-0.273872</td>\n",
       "      <td>1.000000</td>\n",
       "      <td>-0.005604</td>\n",
       "      <td>0.742039</td>\n",
       "      <td>0.490835</td>\n",
       "    </tr>\n",
       "    <tr>\n",
       "      <th>popgr</th>\n",
       "      <td>0.040902</td>\n",
       "      <td>0.056123</td>\n",
       "      <td>-0.007051</td>\n",
       "      <td>-0.210439</td>\n",
       "      <td>-0.005604</td>\n",
       "      <td>1.000000</td>\n",
       "      <td>-0.083669</td>\n",
       "      <td>-0.118346</td>\n",
       "    </tr>\n",
       "    <tr>\n",
       "      <th>seceduc</th>\n",
       "      <td>0.751521</td>\n",
       "      <td>-0.133204</td>\n",
       "      <td>0.758719</td>\n",
       "      <td>-0.124834</td>\n",
       "      <td>0.742039</td>\n",
       "      <td>-0.083669</td>\n",
       "      <td>1.000000</td>\n",
       "      <td>0.399826</td>\n",
       "    </tr>\n",
       "    <tr>\n",
       "      <th>trade</th>\n",
       "      <td>0.508376</td>\n",
       "      <td>0.088943</td>\n",
       "      <td>0.477184</td>\n",
       "      <td>-0.015316</td>\n",
       "      <td>0.490835</td>\n",
       "      <td>-0.118346</td>\n",
       "      <td>0.399826</td>\n",
       "      <td>1.000000</td>\n",
       "    </tr>\n",
       "  </tbody>\n",
       "</table>\n",
       "</div>"
      ],
      "text/plain": [
       "              gdpcap    gvtexp  investment  inflation  population     popgr  \\\n",
       "gdpcap      1.000000  0.155148    0.923867  -0.210181    0.862652  0.040902   \n",
       "gvtexp      0.155148  1.000000    0.145528   0.020995    0.296333  0.056123   \n",
       "investment  0.923867  0.145528    1.000000  -0.140615    0.886441 -0.007051   \n",
       "inflation  -0.210181  0.020995   -0.140615   1.000000   -0.273872 -0.210439   \n",
       "population  0.862652  0.296333    0.886441  -0.273872    1.000000 -0.005604   \n",
       "popgr       0.040902  0.056123   -0.007051  -0.210439   -0.005604  1.000000   \n",
       "seceduc     0.751521 -0.133204    0.758719  -0.124834    0.742039 -0.083669   \n",
       "trade       0.508376  0.088943    0.477184  -0.015316    0.490835 -0.118346   \n",
       "\n",
       "             seceduc     trade  \n",
       "gdpcap      0.751521  0.508376  \n",
       "gvtexp     -0.133204  0.088943  \n",
       "investment  0.758719  0.477184  \n",
       "inflation  -0.124834 -0.015316  \n",
       "population  0.742039  0.490835  \n",
       "popgr      -0.083669 -0.118346  \n",
       "seceduc     1.000000  0.399826  \n",
       "trade       0.399826  1.000000  "
      ]
     },
     "execution_count": 132,
     "metadata": {},
     "output_type": "execute_result"
    }
   ],
   "source": [
    "#The required correlation matrix\n",
    "df_one.corr()"
   ]
  },
  {
   "cell_type": "code",
   "execution_count": 133,
   "metadata": {},
   "outputs": [
    {
     "data": {
      "image/png": "[encoded data removed]",
      "text/plain": [
       "<Figure size 432x288 with 1 Axes>"
      ]
     },
     "metadata": {
      "needs_background": "light"
     },
     "output_type": "display_data"
    }
   ],
   "source": [
    "#Plotting a scatter\n",
    "#Train data distribution\n",
    "plt.scatter(df['population'],df['gdpcap'],color='blue')\n",
    "plt.title('GDP/population')\n",
    "plt.xlabel(\"Population\")\n",
    "plt.ylabel(\"GDP per capita\")\n",
    "plt.show()"
   ]
  },
  {
   "cell_type": "code",
   "execution_count": 134,
   "metadata": {},
   "outputs": [],
   "source": [
    "#Separating the data into training and testing data\n",
    "msk = np.random.rand(len(df)) < 0.8\n",
    "train = df[msk]\n",
    "test = df[msk]"
   ]
  },
  {
   "cell_type": "code",
   "execution_count": 135,
   "metadata": {},
   "outputs": [
    {
     "data": {
      "text/plain": [
       "LinearRegression(copy_X=True, fit_intercept=True, n_jobs=None, normalize=False)"
      ]
     },
     "execution_count": 135,
     "metadata": {},
     "output_type": "execute_result"
    }
   ],
   "source": [
    "#Using sklearn package to model data\n",
    "#modelling\n",
    "from sklearn import linear_model\n",
    "regr = linear_model.LinearRegression()\n",
    "train_x = np.asanyarray(train[['population']])\n",
    "train_y = np.asanyarray(train[['gdpcap']])\n",
    "regr.fit(train_x,train_y) "
   ]
  },
  {
   "cell_type": "code",
   "execution_count": 136,
   "metadata": {},
   "outputs": [
    {
     "data": {
      "text/plain": [
       "Text(0, 0.5, 'GDP per capita')"
      ]
     },
     "execution_count": 136,
     "metadata": {},
     "output_type": "execute_result"
    },
    {
     "data": {
      "image/png": "[encoded data removed]",
      "text/plain": [
       "<Figure size 432x288 with 1 Axes>"
      ]
     },
     "metadata": {
      "needs_background": "light"
     },
     "output_type": "display_data"
    }
   ],
   "source": [
    "#Plotting the fit line over the data\n",
    "plt.scatter(train['population'],train['gdpcap'],color='blue')\n",
    "plt.plot(train_x,regr.coef_[0][0]*train_x + regr.intercept_[0],'-r')\n",
    "plt.title('GDP/population')\n",
    "plt.xlabel(\"Population\")\n",
    "plt.ylabel(\"GDP per capita\")"
   ]
  },
  {
   "cell_type": "code",
   "execution_count": 137,
   "metadata": {},
   "outputs": [
    {
     "data": {
      "image/png": "[encoded data removed]",
      "text/plain": [
       "<Figure size 432x288 with 1 Axes>"
      ]
     },
     "metadata": {
      "needs_background": "light"
     },
     "output_type": "display_data"
    }
   ],
   "source": [
    "#Train data distribution\n",
    "plt.scatter(df['popgr'],df['gdpcap'],color='blue')\n",
    "plt.title('GDP/popgr')\n",
    "plt.xlabel(\"Population growth\")\n",
    "plt.ylabel(\"GDP per capita\")\n",
    "plt.show()"
   ]
  },
  {
   "cell_type": "code",
   "execution_count": 138,
   "metadata": {},
   "outputs": [
    {
     "data": {
      "text/plain": [
       "LinearRegression(copy_X=True, fit_intercept=True, n_jobs=None, normalize=False)"
      ]
     },
     "execution_count": 138,
     "metadata": {},
     "output_type": "execute_result"
    }
   ],
   "source": [
    "#modeling\n",
    "from sklearn import linear_model\n",
    "regr = linear_model.LinearRegression()\n",
    "train_x = np.asanyarray(train[['popgr']])\n",
    "train_y = np.asanyarray(train[['gdpcap']])\n",
    "regr.fit(train_x,train_y) "
   ]
  },
  {
   "cell_type": "code",
   "execution_count": 139,
   "metadata": {},
   "outputs": [
    {
     "data": {
      "text/plain": [
       "Text(0, 0.5, 'GDP per capita')"
      ]
     },
     "execution_count": 139,
     "metadata": {},
     "output_type": "execute_result"
    },
    {
     "data": {
      "image/png": "[encoded data removed]",
      "text/plain": [
       "<Figure size 432x288 with 1 Axes>"
      ]
     },
     "metadata": {
      "needs_background": "light"
     },
     "output_type": "display_data"
    }
   ],
   "source": [
    "plt.scatter(train['popgr'],train['gdpcap'],color='blue')\n",
    "plt.plot(train_x,regr.coef_[0][0]*train_x + regr.intercept_[0],'-r')\n",
    "plt.title('GDP/popgr')\n",
    "plt.xlabel(\"Population growth\")\n",
    "plt.ylabel(\"GDP per capita\")"
   ]
  },
  {
   "cell_type": "code",
   "execution_count": 140,
   "metadata": {},
   "outputs": [
    {
     "data": {
      "image/png": "[encoded data removed]",
      "text/plain": [
       "<Figure size 432x288 with 1 Axes>"
      ]
     },
     "metadata": {
      "needs_background": "light"
     },
     "output_type": "display_data"
    }
   ],
   "source": [
    "#Train data distribution\n",
    "plt.scatter(df['investment'],df['gdpcap'],color='blue')\n",
    "plt.title('GDP/investment')\n",
    "plt.xlabel(\"Investment\")\n",
    "plt.ylabel(\"GDP per capita\")\n",
    "plt.show()"
   ]
  },
  {
   "cell_type": "code",
   "execution_count": 141,
   "metadata": {},
   "outputs": [
    {
     "data": {
      "text/plain": [
       "LinearRegression(copy_X=True, fit_intercept=True, n_jobs=None, normalize=False)"
      ]
     },
     "execution_count": 141,
     "metadata": {},
     "output_type": "execute_result"
    }
   ],
   "source": [
    "#modeling\n",
    "from sklearn import linear_model\n",
    "regr = linear_model.LinearRegression()\n",
    "train_x = np.asanyarray(train[['investment']])\n",
    "train_y = np.asanyarray(train[['gdpcap']])\n",
    "regr.fit(train_x,train_y) "
   ]
  },
  {
   "cell_type": "code",
   "execution_count": 142,
   "metadata": {},
   "outputs": [
    {
     "data": {
      "text/plain": [
       "Text(0, 0.5, 'GDP per capita')"
      ]
     },
     "execution_count": 142,
     "metadata": {},
     "output_type": "execute_result"
    },
    {
     "data": {
      "image/png": "[encoded data removed]",
      "text/plain": [
       "<Figure size 432x288 with 1 Axes>"
      ]
     },
     "metadata": {
      "needs_background": "light"
     },
     "output_type": "display_data"
    }
   ],
   "source": [
    "plt.scatter(train['investment'],train['gdpcap'],color='blue')\n",
    "plt.plot(train_x,regr.coef_[0][0]*train_x + regr.intercept_[0],'-r')\n",
    "plt.title('GDP/investment')\n",
    "plt.xlabel(\"investment\")\n",
    "plt.ylabel(\"GDP per capita\")"
   ]
  },
  {
   "cell_type": "code",
   "execution_count": 143,
   "metadata": {},
   "outputs": [
    {
     "data": {
      "image/png": "[encoded data removed]",
      "text/plain": [
       "<Figure size 432x288 with 1 Axes>"
      ]
     },
     "metadata": {
      "needs_background": "light"
     },
     "output_type": "display_data"
    }
   ],
   "source": [
    "#Train data distribution\n",
    "plt.scatter(df['seceduc'],df['gdpcap'],color='blue')\n",
    "plt.title('GDP/seceduc')\n",
    "plt.xlabel(\"Sec education\")\n",
    "plt.ylabel(\"GDP per capita\")\n",
    "plt.show()"
   ]
  },
  {
   "cell_type": "code",
   "execution_count": 144,
   "metadata": {},
   "outputs": [
    {
     "data": {
      "text/plain": [
       "LinearRegression(copy_X=True, fit_intercept=True, n_jobs=None, normalize=False)"
      ]
     },
     "execution_count": 144,
     "metadata": {},
     "output_type": "execute_result"
    }
   ],
   "source": [
    "#modeling\n",
    "from sklearn import linear_model\n",
    "regr = linear_model.LinearRegression()\n",
    "train_x = np.asanyarray(train[['seceduc']])\n",
    "train_y = np.asanyarray(train[['gdpcap']])\n",
    "regr.fit(train_x,train_y) "
   ]
  },
  {
   "cell_type": "code",
   "execution_count": 145,
   "metadata": {},
   "outputs": [
    {
     "data": {
      "text/plain": [
       "Text(0, 0.5, 'GDP per capita')"
      ]
     },
     "execution_count": 145,
     "metadata": {},
     "output_type": "execute_result"
    },
    {
     "data": {
      "image/png": "[encoded data removed]",
      "text/plain": [
       "<Figure size 432x288 with 1 Axes>"
      ]
     },
     "metadata": {
      "needs_background": "light"
     },
     "output_type": "display_data"
    }
   ],
   "source": [
    "plt.scatter(train['seceduc'],train['gdpcap'],color='blue')\n",
    "plt.plot(train_x,regr.coef_[0][0]*train_x + regr.intercept_[0],'-r')\n",
    "plt.title('GDP/Sec education')\n",
    "plt.xlabel(\"Sec education\")\n",
    "plt.ylabel(\"GDP per capita\")"
   ]
  },
  {
   "cell_type": "code",
   "execution_count": 146,
   "metadata": {},
   "outputs": [
    {
     "data": {
      "image/png": "[encoded data removed]",
      "text/plain": [
       "<Figure size 432x288 with 1 Axes>"
      ]
     },
     "metadata": {
      "needs_background": "light"
     },
     "output_type": "display_data"
    }
   ],
   "source": [
    "#Train data distribution\n",
    "plt.scatter(df['gvtexp'],df['gdpcap'],color='blue')\n",
    "plt.title('GDP/gvtexp')\n",
    "plt.xlabel(\"Gvt expenditure\")\n",
    "plt.ylabel(\"GDP per capita\")\n",
    "plt.show()"
   ]
  },
  {
   "cell_type": "code",
   "execution_count": 147,
   "metadata": {},
   "outputs": [
    {
     "data": {
      "text/plain": [
       "LinearRegression(copy_X=True, fit_intercept=True, n_jobs=None, normalize=False)"
      ]
     },
     "execution_count": 147,
     "metadata": {},
     "output_type": "execute_result"
    }
   ],
   "source": [
    "#modeling\n",
    "from sklearn import linear_model\n",
    "regr = linear_model.LinearRegression()\n",
    "train_x = np.asanyarray(train[['gvtexp']])\n",
    "train_y = np.asanyarray(train[['gdpcap']])\n",
    "regr.fit(train_x,train_y) "
   ]
  },
  {
   "cell_type": "code",
   "execution_count": 148,
   "metadata": {},
   "outputs": [
    {
     "data": {
      "text/plain": [
       "Text(0, 0.5, 'GDP per capita')"
      ]
     },
     "execution_count": 148,
     "metadata": {},
     "output_type": "execute_result"
    },
    {
     "data": {
      "image/png": "[encoded data removed]",
      "text/plain": [
       "<Figure size 432x288 with 1 Axes>"
      ]
     },
     "metadata": {
      "needs_background": "light"
     },
     "output_type": "display_data"
    }
   ],
   "source": [
    "plt.scatter(train['gvtexp'],train['gdpcap'],color='blue')\n",
    "plt.plot(train_x,regr.coef_[0][0]*train_x + regr.intercept_[0],'-r')\n",
    "plt.title('GDP/gvtexp')\n",
    "plt.xlabel(\"Gvt expenditure\")\n",
    "plt.ylabel(\"GDP per capita\")"
   ]
  },
  {
   "cell_type": "code",
   "execution_count": 149,
   "metadata": {},
   "outputs": [
    {
     "data": {
      "image/png": "[encoded data removed]",
      "text/plain": [
       "<Figure size 432x288 with 1 Axes>"
      ]
     },
     "metadata": {
      "needs_background": "light"
     },
     "output_type": "display_data"
    }
   ],
   "source": [
    "#Train data distribution\n",
    "plt.scatter(df['inflation'],df['gdpcap'],color='blue')\n",
    "plt.title('GDP/inflation')\n",
    "plt.xlabel(\"inflation\")\n",
    "plt.ylabel(\"GDP per capita\")\n",
    "plt.show()"
   ]
  },
  {
   "cell_type": "code",
   "execution_count": 150,
   "metadata": {},
   "outputs": [
    {
     "data": {
      "text/plain": [
       "LinearRegression(copy_X=True, fit_intercept=True, n_jobs=None, normalize=False)"
      ]
     },
     "execution_count": 150,
     "metadata": {},
     "output_type": "execute_result"
    }
   ],
   "source": [
    "#modeling\n",
    "from sklearn import linear_model\n",
    "regr = linear_model.LinearRegression()\n",
    "train_x = np.asanyarray(train[['inflation']])\n",
    "train_y = np.asanyarray(train[['gdpcap']])\n",
    "regr.fit(train_x,train_y) "
   ]
  },
  {
   "cell_type": "code",
   "execution_count": 151,
   "metadata": {},
   "outputs": [
    {
     "data": {
      "text/plain": [
       "Text(0, 0.5, 'GDP per capita')"
      ]
     },
     "execution_count": 151,
     "metadata": {},
     "output_type": "execute_result"
    },
    {
     "data": {
      "image/png": "[encoded data removed]",
      "text/plain": [
       "<Figure size 432x288 with 1 Axes>"
      ]
     },
     "metadata": {
      "needs_background": "light"
     },
     "output_type": "display_data"
    }
   ],
   "source": [
    "plt.scatter(train['inflation'],train['gdpcap'],color='blue')\n",
    "plt.plot(train_x,regr.coef_[0][0]*train_x + regr.intercept_[0],'-r')\n",
    "plt.title('GDP/inflation')\n",
    "plt.xlabel(\"inflation\")\n",
    "plt.ylabel(\"GDP per capita\")"
   ]
  },
  {
   "cell_type": "code",
   "execution_count": 152,
   "metadata": {},
   "outputs": [
    {
     "data": {
      "image/png": "[encoded data removed]",
      "text/plain": [
       "<Figure size 432x288 with 1 Axes>"
      ]
     },
     "metadata": {
      "needs_background": "light"
     },
     "output_type": "display_data"
    }
   ],
   "source": [
    "#Train data distribution\n",
    "plt.scatter(df['trade'],df['gdpcap'],color='blue')\n",
    "plt.title('GDP/trade')\n",
    "plt.xlabel(\"trade\")\n",
    "plt.ylabel(\"GDP per capita\")\n",
    "plt.show()"
   ]
  },
  {
   "cell_type": "code",
   "execution_count": 153,
   "metadata": {},
   "outputs": [
    {
     "data": {
      "text/plain": [
       "LinearRegression(copy_X=True, fit_intercept=True, n_jobs=None, normalize=False)"
      ]
     },
     "execution_count": 153,
     "metadata": {},
     "output_type": "execute_result"
    }
   ],
   "source": [
    "#modeling\n",
    "from sklearn import linear_model\n",
    "regr = linear_model.LinearRegression()\n",
    "train_x = np.asanyarray(train[['trade']])\n",
    "train_y = np.asanyarray(train[['gdpcap']])\n",
    "regr.fit(train_x,train_y) "
   ]
  },
  {
   "cell_type": "code",
   "execution_count": 154,
   "metadata": {},
   "outputs": [
    {
     "data": {
      "text/plain": [
       "Text(0, 0.5, 'GDP per capita')"
      ]
     },
     "execution_count": 154,
     "metadata": {},
     "output_type": "execute_result"
    },
    {
     "data": {
      "image/png": "[encoded data removed]",
      "text/plain": [
       "<Figure size 432x288 with 1 Axes>"
      ]
     },
     "metadata": {
      "needs_background": "light"
     },
     "output_type": "display_data"
    }
   ],
   "source": [
    "plt.scatter(train['trade'],train['gdpcap'],color='blue')\n",
    "plt.plot(train_x,regr.coef_[0][0]*train_x + regr.intercept_[0],'-r')\n",
    "plt.title('GDP/trade')\n",
    "plt.xlabel(\"trade\")\n",
    "plt.ylabel(\"GDP per capita\")"
   ]
  },
  {
   "cell_type": "code",
   "execution_count": null,
   "metadata": {},
   "outputs": [],
   "source": []
  }
 ],
 "metadata": {
  "kernelspec": {
   "display_name": "Python 3",
   "language": "python",
   "name": "python3"
  },
  "language_info": {
   "codemirror_mode": {
    "name": "ipython",
    "version": 3
   },
   "file_extension": ".py",
   "mimetype": "text/x-python",
   "name": "python",
   "nbconvert_exporter": "python",
   "pygments_lexer": "ipython3",
   "version": "3.7.6"
  }
 },
 "nbformat": 4,
 "nbformat_minor": 4
}
